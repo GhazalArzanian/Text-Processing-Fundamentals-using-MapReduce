{
 "cells": [
  {
   "cell_type": "code",
   "execution_count": 1,
   "id": "51f410ef-dd5c-4245-b70e-11c948bd55fc",
   "metadata": {
    "tags": []
   },
   "outputs": [
    {
     "name": "stderr",
     "output_type": "stream",
     "text": [
      "python: can't open file 'C:\\\\Users\\\\bosse\\\\Documents\\\\GitHub\\\\Jupyter\\\\final\\\\countline.py': [Errno 2] No such file or directory\n"
     ]
    }
   ],
   "source": [
    "#counting lines\n",
    "!python final/countline.py \\\n",
    "         --hadoop-streaming-jar /usr/lib/hadoop/tools/lib/hadoop-streaming-3.3.4.jar \\\n",
    "          -r hadoop hdfs:///user/dic23_shared/amazon-reviews/full/reviews_devset.json > countline.txt"
   ]
  },
  {
   "cell_type": "code",
   "execution_count": null,
   "id": "d6e75622-51d0-455e-a712-fee36490e09b",
   "metadata": {
    "tags": []
   },
   "outputs": [],
   "source": [
    "#counting lines combined\n",
    "!python final/countline.py \\\n",
    "         --hadoop-streaming-jar /usr/lib/hadoop/tools/lib/hadoop-streaming-3.3.4.jar \\\n",
    "          -r hadoop hdfs:///user/dic23_shared/amazon-reviews/full/reviews_combined.json > countline_full.txt"
   ]
  },
  {
   "cell_type": "code",
   "execution_count": null,
   "id": "691f02b4-f950-4207-ad79-43f849d8115a",
   "metadata": {
    "tags": []
   },
   "outputs": [],
   "source": [
    "#chi\n",
    "!python chi.py \\\n",
    "         --hadoop-streaming-jar /usr/lib/hadoop/tools/lib/hadoop-streaming-3.3.4.jar \\\n",
    "          --file stopwords.txt \\\n",
    "          -r hadoop hdfs:///user/dic23_shared/amazon-reviews/full/reviews_devset.json > output.txt"
   ]
  },
  {
   "cell_type": "code",
   "execution_count": null,
   "id": "17195b93-c9b3-4499-a030-7f40aa6eddd0",
   "metadata": {},
   "outputs": [],
   "source": [
    "#chi combined\n",
    "!python chi.py \\\n",
    "         --hadoop-streaming-jar /usr/lib/hadoop/tools/lib/hadoop-streaming-3.3.4.jar \\\n",
    "          --file stopwords.txt \\\n",
    "          -r hadoop hdfs:///user/dic23_shared/amazon-reviews/full/reviews_combined.json > output_large.txt"
   ]
  }
 ],
 "metadata": {
  "kernelspec": {
   "display_name": "Python 3 (ipykernel)",
   "language": "python",
   "name": "python3"
  },
  "language_info": {
   "codemirror_mode": {
    "name": "ipython",
    "version": 3
   },
   "file_extension": ".py",
   "mimetype": "text/x-python",
   "name": "python",
   "nbconvert_exporter": "python",
   "pygments_lexer": "ipython3",
   "version": "3.11.5"
  }
 },
 "nbformat": 4,
 "nbformat_minor": 5
}
