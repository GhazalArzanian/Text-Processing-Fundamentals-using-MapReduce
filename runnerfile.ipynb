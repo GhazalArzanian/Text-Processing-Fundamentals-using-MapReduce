{
 "cells": [
  {
   "cell_type": "code",
   "execution_count": null,
   "id": "56f94734",
   "metadata": {},
   "outputs": [],
   "source": [
    "!python countline.py \\\n",
    "        --hadoop-streaming-jar /usr/lib/hadoop/tools/lib/hadoop-streaming-3.3.5.jar \\\n",
    "        -r hadoop hdfs:///user/dic24_shared/amazon-reviews/full/reviews_devset.json > countoutput.txt"
   ]
  },
  {
   "cell_type": "code",
   "execution_count": null,
   "id": "87ec91bd",
   "metadata": {},
   "outputs": [],
   "source": [
    "!python chitest2.py \\\n",
    "        --hadoop-streaming-jar /usr/lib/hadoop/tools/lib/hadoop-streaming-3.3.5.jar \\\n",
    "        -r hadoop hdfs:///user/dic24_shared/amazon-reviews/full/reviews_devset.json > output.txt"
   ]
  }
 ],
 "metadata": {
  "kernelspec": {
   "display_name": "Python 3 (ipykernel)",
   "language": "python",
   "name": "python3"
  },
  "language_info": {
   "codemirror_mode": {
    "name": "ipython",
    "version": 3
   },
   "file_extension": ".py",
   "mimetype": "text/x-python",
   "name": "python",
   "nbconvert_exporter": "python",
   "pygments_lexer": "ipython3",
   "version": "3.11.5"
  }
 },
 "nbformat": 4,
 "nbformat_minor": 5
}
