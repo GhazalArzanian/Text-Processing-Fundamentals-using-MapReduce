{
 "cells": [
  {
   "cell_type": "markdown",
   "id": "99c3ee05",
   "metadata": {},
   "source": [
    "# Runner file to execute steps in the right order"
   ]
  },
  {
   "cell_type": "markdown",
   "id": "9c33b6bf",
   "metadata": {},
   "source": [
    "Make sure first that all files (categoriesTest.py, TermDistributionTest.py, append_terms.py, stopwords.txt, Runner_final.ipynb) are in the same directory."
   ]
  },
  {
   "cell_type": "markdown",
   "id": "897c2f4a",
   "metadata": {},
   "source": [
    "## 1. Running the MapReduce on the devset"
   ]
  },
  {
   "cell_type": "code",
   "execution_count": null,
   "id": "4d119e3a",
   "metadata": {
    "tags": []
   },
   "outputs": [],
   "source": [
    "!python categories.py \\\n",
    "        --hadoop-streaming-jar /usr/lib/hadoop/tools/lib/hadoop-streaming-3.3.5.jar \\\n",
    "        -r hadoop hdfs:///user/dic24_shared/amazon-reviews/full/reviews_devset.json > categories.txt\n",
    "        #This will produce the file categories.txt that is needed for the next step"
   ]
  },
  {
   "cell_type": "code",
   "execution_count": null,
   "id": "0a3d16b4",
   "metadata": {},
   "outputs": [],
   "source": [
    "!python TermDistributionTest.py \\\n",
    "        --stopwords stopwords.txt\n",
    "        --categories categories.txt\n",
    "        --hadoop-streaming-jar /usr/lib/hadoop/tools/lib/hadoop-streaming-3.3.5.jar \\\n",
    "        -r hadoop hdfs:///user/dic24_shared/amazon-reviews/full/reviews_devset.json > output1.txt\n",
    "        #This will output an intermediate output file output1.txt that contains the sorted terms for each category but\n",
    "        #without the final line containing all terms overall"
   ]
  },
  {
   "cell_type": "code",
   "execution_count": null,
   "id": "496fa29a",
   "metadata": {},
   "outputs": [],
   "source": [
    "!python append_terms.py output1.txt > output.txt\n",
    "        #This will append all unique terms overall sorted alphabetically as a final line to the output and create output.txt"
   ]
  },
  {
   "cell_type": "markdown",
   "id": "753749fc",
   "metadata": {},
   "source": [
    "## 1. Running the MapReduce on the full reviews"
   ]
  },
  {
   "cell_type": "code",
   "execution_count": null,
   "id": "9e4b0eaa",
   "metadata": {},
   "outputs": [],
   "source": [
    "!python categories.py \\\n",
    "        --hadoop-streaming-jar /usr/lib/hadoop/tools/lib/hadoop-streaming-3.3.5.jar \\\n",
    "        -r hadoop hdfs:///user/dic24_shared/amazon-reviews/full/reviewscombined.json > categories.txt\n",
    "        #This will produce the file categories.txt that is needed for the next step"
   ]
  },
  {
   "cell_type": "code",
   "execution_count": null,
   "id": "ec39c4b2",
   "metadata": {},
   "outputs": [],
   "source": [
    "!python TermDistributionTest.py \\\n",
    "        --stopwords stopwords.txt\n",
    "        --categories categories.txt\n",
    "        --hadoop-streaming-jar /usr/lib/hadoop/tools/lib/hadoop-streaming-3.3.5.jar \\\n",
    "        -r hadoop hdfs:///user/dic24_shared/amazon-reviews/full/reviewscombined.json > output1.txt\n",
    "        #This will output an intermediate output file output1.txt that contains the sorted terms for each category but\n",
    "        #without the final line containing all terms overall"
   ]
  },
  {
   "cell_type": "code",
   "execution_count": null,
   "id": "73252a8b",
   "metadata": {},
   "outputs": [],
   "source": [
    "!python append_terms.py output1.txt > output.txt\n",
    "        #This will append all unique terms overall sorted alphabetically as a final line to the output and create output.txt"
   ]
  }
 ],
 "metadata": {
  "kernelspec": {
   "display_name": "Python 3 (ipykernel)",
   "language": "python",
   "name": "python3"
  },
  "language_info": {
   "codemirror_mode": {
    "name": "ipython",
    "version": 3
   },
   "file_extension": ".py",
   "mimetype": "text/x-python",
   "name": "python",
   "nbconvert_exporter": "python",
   "pygments_lexer": "ipython3",
   "version": "3.11.5"
  }
 },
 "nbformat": 4,
 "nbformat_minor": 5
}
